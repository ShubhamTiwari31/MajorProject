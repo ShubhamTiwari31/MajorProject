{
 "cells": [
  {
   "cell_type": "markdown",
   "id": "81cdce0a",
   "metadata": {},
   "source": [
    "**Numpy Tutorial**"
   ]
  },
  {
   "cell_type": "code",
   "execution_count": 1,
   "id": "a4e674db",
   "metadata": {},
   "outputs": [],
   "source": [
    "import numpy as np"
   ]
  },
  {
   "cell_type": "code",
   "execution_count": 2,
   "id": "f7396625",
   "metadata": {},
   "outputs": [],
   "source": [
    "myarr = np.array([[3,6,3,7]], np.int32)"
   ]
  },
  {
   "cell_type": "markdown",
   "id": "d751d3e4",
   "metadata": {},
   "source": [
    "Two dimensional array [[  ]]"
   ]
  },
  {
   "cell_type": "code",
   "execution_count": 3,
   "id": "d86c96f0",
   "metadata": {},
   "outputs": [
    {
     "data": {
      "text/plain": [
       "array([[3, 6, 3, 7]])"
      ]
     },
     "execution_count": 3,
     "metadata": {},
     "output_type": "execute_result"
    }
   ],
   "source": [
    "myarr"
   ]
  },
  {
   "cell_type": "code",
   "execution_count": 4,
   "id": "6a922969",
   "metadata": {},
   "outputs": [
    {
     "data": {
      "text/plain": [
       "6"
      ]
     },
     "execution_count": 4,
     "metadata": {},
     "output_type": "execute_result"
    }
   ],
   "source": [
    "myarr[0,1]"
   ]
  },
  {
   "cell_type": "code",
   "execution_count": 5,
   "id": "144ff149",
   "metadata": {},
   "outputs": [
    {
     "data": {
      "text/plain": [
       "(1, 4)"
      ]
     },
     "execution_count": 5,
     "metadata": {},
     "output_type": "execute_result"
    }
   ],
   "source": [
    "myarr.shape"
   ]
  },
  {
   "cell_type": "markdown",
   "id": "1237b9f8",
   "metadata": {},
   "source": [
    "For information about array, it's showing 1 row, 4 columns"
   ]
  },
  {
   "cell_type": "code",
   "execution_count": 6,
   "id": "e4d5b1bf",
   "metadata": {},
   "outputs": [
    {
     "data": {
      "text/plain": [
       "dtype('int32')"
      ]
     },
     "execution_count": 6,
     "metadata": {},
     "output_type": "execute_result"
    }
   ],
   "source": [
    "myarr.dtype"
   ]
  },
  {
   "cell_type": "code",
   "execution_count": 7,
   "id": "9a58c7d3",
   "metadata": {},
   "outputs": [],
   "source": [
    "myarr[0,1]=45"
   ]
  },
  {
   "cell_type": "code",
   "execution_count": 8,
   "id": "de2c3087",
   "metadata": {},
   "outputs": [
    {
     "data": {
      "text/plain": [
       "array([[ 3, 45,  3,  7]])"
      ]
     },
     "execution_count": 8,
     "metadata": {},
     "output_type": "execute_result"
    }
   ],
   "source": [
    "myarr"
   ]
  },
  {
   "cell_type": "markdown",
   "id": "61acfbd9",
   "metadata": {},
   "source": [
    "#ARRAY CREATION METHOD"
   ]
  },
  {
   "cell_type": "code",
   "execution_count": null,
   "id": "fcfe9f5f",
   "metadata": {},
   "outputs": [],
   "source": []
  }
 ],
 "metadata": {
  "kernelspec": {
   "display_name": "Python 3 (ipykernel)",
   "language": "python",
   "name": "python3"
  },
  "language_info": {
   "codemirror_mode": {
    "name": "ipython",
    "version": 3
   },
   "file_extension": ".py",
   "mimetype": "text/x-python",
   "name": "python",
   "nbconvert_exporter": "python",
   "pygments_lexer": "ipython3",
   "version": "3.11.3"
  }
 },
 "nbformat": 4,
 "nbformat_minor": 5
}
